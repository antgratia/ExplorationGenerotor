{
 "cells": [
  {
   "cell_type": "code",
   "execution_count": 2,
   "id": "b843a7d8",
   "metadata": {},
   "outputs": [],
   "source": [
    "import pandas as pd\n",
    "from statistics import mean, stdev\n",
    "import scipy\n",
    "import scipy.stats as stats\n",
    "import math\n",
    "import matplotlib.pyplot as plt\n",
    "import matplotlib\n",
    "import seaborn as sns\n",
    "import os\n",
    "import glob\n",
    "import numpy as np"
   ]
  },
  {
   "cell_type": "code",
   "execution_count": 41,
   "id": "c09fa023",
   "metadata": {},
   "outputs": [],
   "source": [
    "df_rs = pd.read_csv(\"output/architecture_csv/test_rs/architecture_results.csv\", names=['file_name', 'training_time(s)', 'test_result_loss', 'test_result_acc', 'train_result_acc', 'train_result_loss', 'nb_layers', 'epochs'])\n",
    "df_ga_init = pd.read_csv(\"output/architecture_csv/test_ga/architecture_results.csv\", names=['file_name', 'training_time(s)', 'test_result_loss', 'test_result_acc', 'train_result_acc', 'train_result_loss', 'nb_layers', 'epochs'])\n",
    "df_ga_mut = pd.DataFrame()\n",
    "for i in range(1,10):\n",
    "    df = pd.read_csv(\"output/architecture_csv/test_ga/\"+str(i)+\"/architecture_results.csv\", names=['file_name', 'training_time(s)', 'test_result_loss', 'test_result_acc', 'train_result_acc', 'train_result_loss', 'nb_layers', 'epochs'])\n",
    "    df_ga_mut = pd.concat([df_ga_mut, df])\n",
    "df_ga_mut = df_ga_mut.reset_index() "
   ]
  },
  {
   "cell_type": "code",
   "execution_count": 42,
   "id": "9b7875fc",
   "metadata": {},
   "outputs": [
    {
     "data": {
      "text/html": [
       "<div>\n",
       "<style scoped>\n",
       "    .dataframe tbody tr th:only-of-type {\n",
       "        vertical-align: middle;\n",
       "    }\n",
       "\n",
       "    .dataframe tbody tr th {\n",
       "        vertical-align: top;\n",
       "    }\n",
       "\n",
       "    .dataframe thead th {\n",
       "        text-align: right;\n",
       "    }\n",
       "</style>\n",
       "<table border=\"1\" class=\"dataframe\">\n",
       "  <thead>\n",
       "    <tr style=\"text-align: right;\">\n",
       "      <th></th>\n",
       "      <th>file_name</th>\n",
       "      <th>training_time(s)</th>\n",
       "      <th>test_result_loss</th>\n",
       "      <th>test_result_acc</th>\n",
       "      <th>train_result_acc</th>\n",
       "      <th>train_result_loss</th>\n",
       "      <th>nb_layers</th>\n",
       "      <th>epochs</th>\n",
       "    </tr>\n",
       "  </thead>\n",
       "  <tbody>\n",
       "    <tr>\n",
       "      <th>0</th>\n",
       "      <td>architecture_1</td>\n",
       "      <td>111.857529</td>\n",
       "      <td>1.291941</td>\n",
       "      <td>0.5319</td>\n",
       "      <td>0.58384</td>\n",
       "      <td>1.151819</td>\n",
       "      <td>23</td>\n",
       "      <td>5</td>\n",
       "    </tr>\n",
       "    <tr>\n",
       "      <th>1</th>\n",
       "      <td>architecture_2</td>\n",
       "      <td>252.306990</td>\n",
       "      <td>2.609522</td>\n",
       "      <td>0.1235</td>\n",
       "      <td>0.12446</td>\n",
       "      <td>2.609521</td>\n",
       "      <td>112</td>\n",
       "      <td>5</td>\n",
       "    </tr>\n",
       "    <tr>\n",
       "      <th>2</th>\n",
       "      <td>architecture_3</td>\n",
       "      <td>151.065570</td>\n",
       "      <td>1.420155</td>\n",
       "      <td>0.4803</td>\n",
       "      <td>0.48996</td>\n",
       "      <td>1.389709</td>\n",
       "      <td>68</td>\n",
       "      <td>5</td>\n",
       "    </tr>\n",
       "    <tr>\n",
       "      <th>3</th>\n",
       "      <td>architecture_4</td>\n",
       "      <td>518.907678</td>\n",
       "      <td>1.821453</td>\n",
       "      <td>0.3315</td>\n",
       "      <td>0.33430</td>\n",
       "      <td>1.820757</td>\n",
       "      <td>104</td>\n",
       "      <td>5</td>\n",
       "    </tr>\n",
       "    <tr>\n",
       "      <th>4</th>\n",
       "      <td>architecture_5</td>\n",
       "      <td>316.045015</td>\n",
       "      <td>1.110269</td>\n",
       "      <td>0.6399</td>\n",
       "      <td>0.65984</td>\n",
       "      <td>1.012638</td>\n",
       "      <td>90</td>\n",
       "      <td>5</td>\n",
       "    </tr>\n",
       "    <tr>\n",
       "      <th>5</th>\n",
       "      <td>architecture_6</td>\n",
       "      <td>259.758825</td>\n",
       "      <td>1.642635</td>\n",
       "      <td>0.4233</td>\n",
       "      <td>0.43204</td>\n",
       "      <td>1.615424</td>\n",
       "      <td>119</td>\n",
       "      <td>5</td>\n",
       "    </tr>\n",
       "    <tr>\n",
       "      <th>6</th>\n",
       "      <td>architecture_7</td>\n",
       "      <td>407.801526</td>\n",
       "      <td>2.415379</td>\n",
       "      <td>0.2266</td>\n",
       "      <td>0.21902</td>\n",
       "      <td>2.423304</td>\n",
       "      <td>110</td>\n",
       "      <td>5</td>\n",
       "    </tr>\n",
       "    <tr>\n",
       "      <th>7</th>\n",
       "      <td>architecture_8</td>\n",
       "      <td>53.010900</td>\n",
       "      <td>1.324982</td>\n",
       "      <td>0.5222</td>\n",
       "      <td>0.54800</td>\n",
       "      <td>1.242618</td>\n",
       "      <td>14</td>\n",
       "      <td>5</td>\n",
       "    </tr>\n",
       "    <tr>\n",
       "      <th>8</th>\n",
       "      <td>architecture_9</td>\n",
       "      <td>192.902758</td>\n",
       "      <td>1.855713</td>\n",
       "      <td>0.3330</td>\n",
       "      <td>0.34142</td>\n",
       "      <td>1.851154</td>\n",
       "      <td>100</td>\n",
       "      <td>5</td>\n",
       "    </tr>\n",
       "    <tr>\n",
       "      <th>9</th>\n",
       "      <td>architecture_10</td>\n",
       "      <td>96.572048</td>\n",
       "      <td>1.210179</td>\n",
       "      <td>0.5683</td>\n",
       "      <td>0.59008</td>\n",
       "      <td>1.145829</td>\n",
       "      <td>40</td>\n",
       "      <td>5</td>\n",
       "    </tr>\n",
       "  </tbody>\n",
       "</table>\n",
       "</div>"
      ],
      "text/plain": [
       "         file_name  training_time(s)  test_result_loss  test_result_acc  \\\n",
       "0   architecture_1        111.857529          1.291941           0.5319   \n",
       "1   architecture_2        252.306990          2.609522           0.1235   \n",
       "2   architecture_3        151.065570          1.420155           0.4803   \n",
       "3   architecture_4        518.907678          1.821453           0.3315   \n",
       "4   architecture_5        316.045015          1.110269           0.6399   \n",
       "5   architecture_6        259.758825          1.642635           0.4233   \n",
       "6   architecture_7        407.801526          2.415379           0.2266   \n",
       "7   architecture_8         53.010900          1.324982           0.5222   \n",
       "8   architecture_9        192.902758          1.855713           0.3330   \n",
       "9  architecture_10         96.572048          1.210179           0.5683   \n",
       "\n",
       "   train_result_acc  train_result_loss  nb_layers  epochs  \n",
       "0           0.58384           1.151819         23       5  \n",
       "1           0.12446           2.609521        112       5  \n",
       "2           0.48996           1.389709         68       5  \n",
       "3           0.33430           1.820757        104       5  \n",
       "4           0.65984           1.012638         90       5  \n",
       "5           0.43204           1.615424        119       5  \n",
       "6           0.21902           2.423304        110       5  \n",
       "7           0.54800           1.242618         14       5  \n",
       "8           0.34142           1.851154        100       5  \n",
       "9           0.59008           1.145829         40       5  "
      ]
     },
     "execution_count": 42,
     "metadata": {},
     "output_type": "execute_result"
    }
   ],
   "source": [
    "df_rs"
   ]
  },
  {
   "cell_type": "code",
   "execution_count": 43,
   "id": "16d02a42",
   "metadata": {},
   "outputs": [
    {
     "data": {
      "text/html": [
       "<div>\n",
       "<style scoped>\n",
       "    .dataframe tbody tr th:only-of-type {\n",
       "        vertical-align: middle;\n",
       "    }\n",
       "\n",
       "    .dataframe tbody tr th {\n",
       "        vertical-align: top;\n",
       "    }\n",
       "\n",
       "    .dataframe thead th {\n",
       "        text-align: right;\n",
       "    }\n",
       "</style>\n",
       "<table border=\"1\" class=\"dataframe\">\n",
       "  <thead>\n",
       "    <tr style=\"text-align: right;\">\n",
       "      <th></th>\n",
       "      <th>file_name</th>\n",
       "      <th>training_time(s)</th>\n",
       "      <th>test_result_loss</th>\n",
       "      <th>test_result_acc</th>\n",
       "      <th>train_result_acc</th>\n",
       "      <th>train_result_loss</th>\n",
       "      <th>nb_layers</th>\n",
       "      <th>epochs</th>\n",
       "    </tr>\n",
       "  </thead>\n",
       "  <tbody>\n",
       "    <tr>\n",
       "      <th>0</th>\n",
       "      <td>architecture_1</td>\n",
       "      <td>47.051897</td>\n",
       "      <td>1.701525</td>\n",
       "      <td>0.3206</td>\n",
       "      <td>0.31772</td>\n",
       "      <td>1.698181</td>\n",
       "      <td>26</td>\n",
       "      <td>5</td>\n",
       "    </tr>\n",
       "    <tr>\n",
       "      <th>1</th>\n",
       "      <td>architecture_2</td>\n",
       "      <td>30.929413</td>\n",
       "      <td>1.679966</td>\n",
       "      <td>0.3663</td>\n",
       "      <td>0.37720</td>\n",
       "      <td>1.657547</td>\n",
       "      <td>22</td>\n",
       "      <td>5</td>\n",
       "    </tr>\n",
       "    <tr>\n",
       "      <th>2</th>\n",
       "      <td>architecture_3</td>\n",
       "      <td>0.000000</td>\n",
       "      <td>NaN</td>\n",
       "      <td>NaN</td>\n",
       "      <td>NaN</td>\n",
       "      <td>NaN</td>\n",
       "      <td>not build</td>\n",
       "      <td>0</td>\n",
       "    </tr>\n",
       "    <tr>\n",
       "      <th>3</th>\n",
       "      <td>architecture_4</td>\n",
       "      <td>53.867754</td>\n",
       "      <td>1.797883</td>\n",
       "      <td>0.3558</td>\n",
       "      <td>0.35780</td>\n",
       "      <td>1.792696</td>\n",
       "      <td>49</td>\n",
       "      <td>5</td>\n",
       "    </tr>\n",
       "    <tr>\n",
       "      <th>4</th>\n",
       "      <td>architecture_5</td>\n",
       "      <td>73.286900</td>\n",
       "      <td>1.309540</td>\n",
       "      <td>0.5311</td>\n",
       "      <td>0.56632</td>\n",
       "      <td>1.204456</td>\n",
       "      <td>34</td>\n",
       "      <td>5</td>\n",
       "    </tr>\n",
       "    <tr>\n",
       "      <th>5</th>\n",
       "      <td>architecture_6</td>\n",
       "      <td>146.827888</td>\n",
       "      <td>1.366462</td>\n",
       "      <td>0.5019</td>\n",
       "      <td>0.51924</td>\n",
       "      <td>1.338125</td>\n",
       "      <td>46</td>\n",
       "      <td>5</td>\n",
       "    </tr>\n",
       "    <tr>\n",
       "      <th>6</th>\n",
       "      <td>architecture_7</td>\n",
       "      <td>85.499631</td>\n",
       "      <td>1.667165</td>\n",
       "      <td>0.4126</td>\n",
       "      <td>0.42330</td>\n",
       "      <td>1.627192</td>\n",
       "      <td>51</td>\n",
       "      <td>5</td>\n",
       "    </tr>\n",
       "    <tr>\n",
       "      <th>7</th>\n",
       "      <td>architecture_8</td>\n",
       "      <td>32.105860</td>\n",
       "      <td>1.119536</td>\n",
       "      <td>0.6025</td>\n",
       "      <td>0.61598</td>\n",
       "      <td>1.076820</td>\n",
       "      <td>26</td>\n",
       "      <td>5</td>\n",
       "    </tr>\n",
       "    <tr>\n",
       "      <th>8</th>\n",
       "      <td>architecture_9</td>\n",
       "      <td>18.558689</td>\n",
       "      <td>1.329374</td>\n",
       "      <td>0.5162</td>\n",
       "      <td>0.53482</td>\n",
       "      <td>1.287919</td>\n",
       "      <td>11</td>\n",
       "      <td>5</td>\n",
       "    </tr>\n",
       "    <tr>\n",
       "      <th>9</th>\n",
       "      <td>architecture_10</td>\n",
       "      <td>97.498235</td>\n",
       "      <td>1.504356</td>\n",
       "      <td>0.4758</td>\n",
       "      <td>0.49204</td>\n",
       "      <td>1.453750</td>\n",
       "      <td>58</td>\n",
       "      <td>5</td>\n",
       "    </tr>\n",
       "  </tbody>\n",
       "</table>\n",
       "</div>"
      ],
      "text/plain": [
       "         file_name  training_time(s)  test_result_loss  test_result_acc  \\\n",
       "0   architecture_1         47.051897          1.701525           0.3206   \n",
       "1   architecture_2         30.929413          1.679966           0.3663   \n",
       "2   architecture_3          0.000000               NaN              NaN   \n",
       "3   architecture_4         53.867754          1.797883           0.3558   \n",
       "4   architecture_5         73.286900          1.309540           0.5311   \n",
       "5   architecture_6        146.827888          1.366462           0.5019   \n",
       "6   architecture_7         85.499631          1.667165           0.4126   \n",
       "7   architecture_8         32.105860          1.119536           0.6025   \n",
       "8   architecture_9         18.558689          1.329374           0.5162   \n",
       "9  architecture_10         97.498235          1.504356           0.4758   \n",
       "\n",
       "   train_result_acc  train_result_loss  nb_layers  epochs  \n",
       "0           0.31772           1.698181         26       5  \n",
       "1           0.37720           1.657547         22       5  \n",
       "2               NaN                NaN  not build       0  \n",
       "3           0.35780           1.792696         49       5  \n",
       "4           0.56632           1.204456         34       5  \n",
       "5           0.51924           1.338125         46       5  \n",
       "6           0.42330           1.627192         51       5  \n",
       "7           0.61598           1.076820         26       5  \n",
       "8           0.53482           1.287919         11       5  \n",
       "9           0.49204           1.453750         58       5  "
      ]
     },
     "execution_count": 43,
     "metadata": {},
     "output_type": "execute_result"
    }
   ],
   "source": [
    "df_ga_init"
   ]
  },
  {
   "cell_type": "code",
   "execution_count": 44,
   "id": "75683d39",
   "metadata": {},
   "outputs": [
    {
     "data": {
      "text/html": [
       "<div>\n",
       "<style scoped>\n",
       "    .dataframe tbody tr th:only-of-type {\n",
       "        vertical-align: middle;\n",
       "    }\n",
       "\n",
       "    .dataframe tbody tr th {\n",
       "        vertical-align: top;\n",
       "    }\n",
       "\n",
       "    .dataframe thead th {\n",
       "        text-align: right;\n",
       "    }\n",
       "</style>\n",
       "<table border=\"1\" class=\"dataframe\">\n",
       "  <thead>\n",
       "    <tr style=\"text-align: right;\">\n",
       "      <th></th>\n",
       "      <th>index</th>\n",
       "      <th>file_name</th>\n",
       "      <th>training_time(s)</th>\n",
       "      <th>test_result_loss</th>\n",
       "      <th>test_result_acc</th>\n",
       "      <th>train_result_acc</th>\n",
       "      <th>train_result_loss</th>\n",
       "      <th>nb_layers</th>\n",
       "      <th>epochs</th>\n",
       "    </tr>\n",
       "  </thead>\n",
       "  <tbody>\n",
       "    <tr>\n",
       "      <th>0</th>\n",
       "      <td>0</td>\n",
       "      <td>architecture_1</td>\n",
       "      <td>45.726057</td>\n",
       "      <td>1.662867</td>\n",
       "      <td>0.3498</td>\n",
       "      <td>0.34666</td>\n",
       "      <td>1.655437</td>\n",
       "      <td>26</td>\n",
       "      <td>5</td>\n",
       "    </tr>\n",
       "    <tr>\n",
       "      <th>1</th>\n",
       "      <td>0</td>\n",
       "      <td>architecture_1</td>\n",
       "      <td>32.475388</td>\n",
       "      <td>1.425598</td>\n",
       "      <td>0.4864</td>\n",
       "      <td>0.49538</td>\n",
       "      <td>1.404882</td>\n",
       "      <td>22</td>\n",
       "      <td>5</td>\n",
       "    </tr>\n",
       "    <tr>\n",
       "      <th>2</th>\n",
       "      <td>0</td>\n",
       "      <td>architecture_1</td>\n",
       "      <td>109.977902</td>\n",
       "      <td>1.657168</td>\n",
       "      <td>0.4037</td>\n",
       "      <td>0.40492</td>\n",
       "      <td>1.656376</td>\n",
       "      <td>101</td>\n",
       "      <td>5</td>\n",
       "    </tr>\n",
       "    <tr>\n",
       "      <th>3</th>\n",
       "      <td>0</td>\n",
       "      <td>architecture_1</td>\n",
       "      <td>54.753326</td>\n",
       "      <td>1.297228</td>\n",
       "      <td>0.5363</td>\n",
       "      <td>0.55294</td>\n",
       "      <td>1.248863</td>\n",
       "      <td>49</td>\n",
       "      <td>5</td>\n",
       "    </tr>\n",
       "    <tr>\n",
       "      <th>4</th>\n",
       "      <td>0</td>\n",
       "      <td>architecture_1</td>\n",
       "      <td>0.000000</td>\n",
       "      <td>NaN</td>\n",
       "      <td>NaN</td>\n",
       "      <td>NaN</td>\n",
       "      <td>NaN</td>\n",
       "      <td>not build</td>\n",
       "      <td>0</td>\n",
       "    </tr>\n",
       "    <tr>\n",
       "      <th>5</th>\n",
       "      <td>0</td>\n",
       "      <td>architecture_1</td>\n",
       "      <td>111.364988</td>\n",
       "      <td>1.206346</td>\n",
       "      <td>0.5752</td>\n",
       "      <td>0.58740</td>\n",
       "      <td>1.173124</td>\n",
       "      <td>46</td>\n",
       "      <td>5</td>\n",
       "    </tr>\n",
       "    <tr>\n",
       "      <th>6</th>\n",
       "      <td>0</td>\n",
       "      <td>architecture_1</td>\n",
       "      <td>0.000000</td>\n",
       "      <td>NaN</td>\n",
       "      <td>NaN</td>\n",
       "      <td>NaN</td>\n",
       "      <td>NaN</td>\n",
       "      <td>not build</td>\n",
       "      <td>0</td>\n",
       "    </tr>\n",
       "    <tr>\n",
       "      <th>7</th>\n",
       "      <td>0</td>\n",
       "      <td>architecture_1</td>\n",
       "      <td>62.712788</td>\n",
       "      <td>1.178486</td>\n",
       "      <td>0.5788</td>\n",
       "      <td>0.59712</td>\n",
       "      <td>1.113032</td>\n",
       "      <td>26</td>\n",
       "      <td>5</td>\n",
       "    </tr>\n",
       "    <tr>\n",
       "      <th>8</th>\n",
       "      <td>0</td>\n",
       "      <td>architecture_1</td>\n",
       "      <td>30.967251</td>\n",
       "      <td>1.414214</td>\n",
       "      <td>0.4831</td>\n",
       "      <td>0.50384</td>\n",
       "      <td>1.374148</td>\n",
       "      <td>11</td>\n",
       "      <td>5</td>\n",
       "    </tr>\n",
       "  </tbody>\n",
       "</table>\n",
       "</div>"
      ],
      "text/plain": [
       "   index       file_name  training_time(s)  test_result_loss  test_result_acc  \\\n",
       "0      0  architecture_1         45.726057          1.662867           0.3498   \n",
       "1      0  architecture_1         32.475388          1.425598           0.4864   \n",
       "2      0  architecture_1        109.977902          1.657168           0.4037   \n",
       "3      0  architecture_1         54.753326          1.297228           0.5363   \n",
       "4      0  architecture_1          0.000000               NaN              NaN   \n",
       "5      0  architecture_1        111.364988          1.206346           0.5752   \n",
       "6      0  architecture_1          0.000000               NaN              NaN   \n",
       "7      0  architecture_1         62.712788          1.178486           0.5788   \n",
       "8      0  architecture_1         30.967251          1.414214           0.4831   \n",
       "\n",
       "   train_result_acc  train_result_loss  nb_layers  epochs  \n",
       "0           0.34666           1.655437         26       5  \n",
       "1           0.49538           1.404882         22       5  \n",
       "2           0.40492           1.656376        101       5  \n",
       "3           0.55294           1.248863         49       5  \n",
       "4               NaN                NaN  not build       0  \n",
       "5           0.58740           1.173124         46       5  \n",
       "6               NaN                NaN  not build       0  \n",
       "7           0.59712           1.113032         26       5  \n",
       "8           0.50384           1.374148         11       5  "
      ]
     },
     "execution_count": 44,
     "metadata": {},
     "output_type": "execute_result"
    }
   ],
   "source": [
    "df_ga_mut"
   ]
  },
  {
   "cell_type": "code",
   "execution_count": 35,
   "id": "d3f76479",
   "metadata": {},
   "outputs": [
    {
     "data": {
      "text/plain": [
       "<AxesSubplot:xlabel='test_result_acc'>"
      ]
     },
     "execution_count": 35,
     "metadata": {},
     "output_type": "execute_result"
    },
    {
     "data": {
      "image/png": "[encoded data removed]",
      "text/plain": [
       "<Figure size 432x288 with 1 Axes>"
      ]
     },
     "metadata": {
      "needs_background": "light"
     },
     "output_type": "display_data"
    }
   ],
   "source": [
    "sns.boxplot(data=df_rs, x='test_result_acc')"
   ]
  },
  {
   "cell_type": "code",
   "execution_count": 45,
   "id": "927037f3",
   "metadata": {},
   "outputs": [
    {
     "data": {
      "text/plain": [
       "<AxesSubplot:xlabel='test_result_acc'>"
      ]
     },
     "execution_count": 45,
     "metadata": {},
     "output_type": "execute_result"
    },
    {
     "data": {
      "image/png": "[encoded data removed]",
      "text/plain": [
       "<Figure size 432x288 with 1 Axes>"
      ]
     },
     "metadata": {
      "needs_background": "light"
     },
     "output_type": "display_data"
    }
   ],
   "source": [
    "sns.boxplot(data=df_ga_init, x='test_result_acc')"
   ]
  },
  {
   "cell_type": "code",
   "execution_count": 46,
   "id": "2b5485fd",
   "metadata": {},
   "outputs": [
    {
     "data": {
      "text/plain": [
       "<AxesSubplot:xlabel='test_result_acc'>"
      ]
     },
     "execution_count": 46,
     "metadata": {},
     "output_type": "execute_result"
    },
    {
     "data": {
      "image/png": "[encoded data removed]",
      "text/plain": [
       "<Figure size 432x288 with 1 Axes>"
      ]
     },
     "metadata": {
      "needs_background": "light"
     },
     "output_type": "display_data"
    }
   ],
   "source": [
    "sns.boxplot(data=df_ga_mut, x='test_result_acc')"
   ]
  },
  {
   "cell_type": "code",
   "execution_count": 11,
   "id": "62262839",
   "metadata": {},
   "outputs": [
    {
     "data": {
      "text/plain": [
       "0.6399000287055969"
      ]
     },
     "execution_count": 11,
     "metadata": {},
     "output_type": "execute_result"
    }
   ],
   "source": [
    "max(df_rs['test_result_acc'])"
   ]
  },
  {
   "cell_type": "code",
   "execution_count": 47,
   "id": "4397f9e6",
   "metadata": {},
   "outputs": [
    {
     "data": {
      "text/plain": [
       "0.6025000214576721"
      ]
     },
     "execution_count": 47,
     "metadata": {},
     "output_type": "execute_result"
    }
   ],
   "source": [
    "max(df_ga_init['test_result_acc'])"
   ]
  },
  {
   "cell_type": "code",
   "execution_count": 48,
   "id": "1890d40b",
   "metadata": {},
   "outputs": [
    {
     "data": {
      "text/plain": [
       "0.5788000226020813"
      ]
     },
     "execution_count": 48,
     "metadata": {},
     "output_type": "execute_result"
    }
   ],
   "source": [
    "max(df_ga_mut['test_result_acc'])"
   ]
  },
  {
   "cell_type": "code",
   "execution_count": null,
   "id": "edfa09e8",
   "metadata": {},
   "outputs": [],
   "source": []
  }
 ],
 "metadata": {
  "kernelspec": {
   "display_name": "Python 3 (ipykernel)",
   "language": "python",
   "name": "python3"
  },
  "language_info": {
   "codemirror_mode": {
    "name": "ipython",
    "version": 3
   },
   "file_extension": ".py",
   "mimetype": "text/x-python",
   "name": "python",
   "nbconvert_exporter": "python",
   "pygments_lexer": "ipython3",
   "version": "3.9.7"
  }
 },
 "nbformat": 4,
 "nbformat_minor": 5
}
